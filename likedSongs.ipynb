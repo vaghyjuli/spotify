{
 "cells": [
  {
   "cell_type": "markdown",
   "id": "7a867dfd",
   "metadata": {},
   "source": [
    "# Create a new Spotify playlist with your Liked Songs \n",
    "#### Probably the easiest way to make an OAuth Token is through this link: https://developer.spotify.com/console/post-playlists/"
   ]
  },
  {
   "cell_type": "code",
   "execution_count": 64,
   "id": "025777d5",
   "metadata": {},
   "outputs": [],
   "source": [
    "def getInfo():\n",
    "    token = input(\"Spotify OAuth Token: \")\n",
    "    playlist_name = input(\"Playlist name: \")\n",
    "    playlist_description = input(\"Playlist description: \")\n",
    "    public = False\n",
    "    if(input(\"Should it be public? (1-yes, 0-no) \") == '1'):\n",
    "        public = True\n",
    "    return token, playlist_name, playlist_description, public"
   ]
  },
  {
   "cell_type": "code",
   "execution_count": 65,
   "id": "010902e2",
   "metadata": {},
   "outputs": [],
   "source": [
    "def findNumOfSongs(token):\n",
    "    endpoint_url = 'https://api.spotify.com/v1/me/tracks'\n",
    "    query = f'{endpoint_url}'\n",
    "    response = requests.get(query, headers={\"Content-Type\":\"application/json\", \"Authorization\":f'Bearer {token}'})\n",
    "    json_response = response.json()\n",
    "    N = json_response['total']\n",
    "    print(f'Found {N} Liked Songs.')\n",
    "    return N"
   ]
  },
  {
   "cell_type": "code",
   "execution_count": 66,
   "id": "6cdbbe42",
   "metadata": {},
   "outputs": [],
   "source": [
    "def createPlaylist(token, playlist_name, playlist_description, public):\n",
    "    endpoint_url = f\"https://api.spotify.com/v1/me/playlists?\"\n",
    "    request_body = json.dumps({\n",
    "              \"name\": playlist_name,\n",
    "              \"description\": playlist_description,\n",
    "              \"public\": public\n",
    "            })\n",
    "    response = requests.post(url = endpoint_url, data = request_body, headers={\"Content-Type\":\"application/json\", \"Authorization\":f'Bearer {token}'})\n",
    "    if(response.status_code == 201):\n",
    "        playlist_id = response.json()['id']\n",
    "        print(f'Created playlist with id {playlist_id}.')\n",
    "    else:\n",
    "        print(\"Could not create playlist.\")\n",
    "    \n",
    "    return playlist_id"
   ]
  },
  {
   "cell_type": "code",
   "execution_count": 67,
   "id": "9bf2ba61",
   "metadata": {},
   "outputs": [],
   "source": [
    "def scrapeNext50(limit, offset, token):\n",
    "    market=\"ES\"\n",
    "    uris = []\n",
    "    endpoint_url = 'https://api.spotify.com/v1/me/tracks?'\n",
    "    query = f'{endpoint_url}limit={limit}&market={market}&offset={offset}'\n",
    "    response = requests.get(query, headers={\"Content-Type\":\"application/json\", \"Authorization\":f'Bearer {token}'})\n",
    "    if(response.status_code != 200):\n",
    "        print(\"Could not scrape songs.\")\n",
    "    json_response = response.json()\n",
    "\n",
    "    for song in json_response['items']:\n",
    "        uris.append(song['track']['uri'])\n",
    "    \n",
    "    return uris"
   ]
  },
  {
   "cell_type": "code",
   "execution_count": 68,
   "id": "2ad3b930",
   "metadata": {},
   "outputs": [],
   "source": [
    "def addSongs(uris, playlist_id, token):\n",
    "    endpoint_url = f'https://api.spotify.com/v1/playlists/{playlist_id}/tracks?'\n",
    "    request_body = json.dumps({\n",
    "              \"uris\" : uris\n",
    "            })\n",
    "    response = requests.post(url = endpoint_url, data = request_body, headers={\"Content-Type\":\"application/json\", \"Authorization\":f'Bearer {token}'})"
   ]
  },
  {
   "cell_type": "code",
   "execution_count": 69,
   "id": "6054062d",
   "metadata": {},
   "outputs": [],
   "source": [
    "import requests\n",
    "import json\n",
    "\n",
    "token, playlist_name, playlist_description, public = getInfo()\n",
    "\n",
    "N = findNumOfSongs(token)\n",
    "limit = 50\n",
    "rem = N%50\n",
    "max_loop = N-rem\n",
    "\n",
    "playlist_id = createPlaylist(token, playlist_name, playlist_description, public)\n",
    "\n",
    "for offset in range(0, max_loop, 50):\n",
    "    uris = scrapeNext50(limit, offset, token)\n",
    "    addSongs(uris, playlist_id, token)\n",
    "uris = scrapeNext50(rem, max_loop, token)\n",
    "addSongs(uris, playlist_id, token)\n",
    "print(\"Songs added to playlist.\")"
   ]
  }
 ],
 "metadata": {
  "kernelspec": {
   "display_name": "Python 3",
   "language": "python",
   "name": "python3"
  },
  "language_info": {
   "codemirror_mode": {
    "name": "ipython",
    "version": 3
   },
   "file_extension": ".py",
   "mimetype": "text/x-python",
   "name": "python",
   "nbconvert_exporter": "python",
   "pygments_lexer": "ipython3",
   "version": "3.8.9"
  }
 },
 "nbformat": 4,
 "nbformat_minor": 5
}
