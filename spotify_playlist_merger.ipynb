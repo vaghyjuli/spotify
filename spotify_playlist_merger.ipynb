{
 "cells": [
  {
   "cell_type": "markdown",
   "id": "d3aa52d2",
   "metadata": {},
   "source": [
    "# Merge playlists\n",
    "#### Probably the easiest way to make an OAuth Token is through this link: https://developer.spotify.com/console/post-playlists/"
   ]
  },
  {
   "cell_type": "code",
   "execution_count": 44,
   "id": "5511d8ee",
   "metadata": {},
   "outputs": [],
   "source": [
    "def getInfo():\n",
    "    token = input(\"Spotify OAuth Token: \")\n",
    "    playlist_name = input(\"Playlist name: \")\n",
    "    playlist_description = input(\"Playlist description: \")\n",
    "    public = False\n",
    "    if(input(\"Should it be public? (1-yes, 0-no) \") == '1'):\n",
    "        public = True\n",
    "    return token, playlist_name, playlist_description, public"
   ]
  },
  {
   "cell_type": "code",
   "execution_count": 45,
   "id": "ebeddba6",
   "metadata": {},
   "outputs": [],
   "source": [
    "def createPlaylist(token, playlist_name, playlist_description, public):\n",
    "    endpoint_url = f\"https://api.spotify.com/v1/me/playlists?\"\n",
    "    request_body = json.dumps({\n",
    "              \"name\": playlist_name,\n",
    "              \"description\": playlist_description,\n",
    "              \"public\": public\n",
    "            })\n",
    "    response = requests.post(url = endpoint_url, data = request_body, headers={\"Content-Type\":\"application/json\", \"Authorization\":f'Bearer {token}'})\n",
    "    if(response.status_code == 201):\n",
    "        playlist_id = response.json()['id']\n",
    "        print(f'Created playlist with id {playlist_id}.')\n",
    "    else:\n",
    "        print(\"Could not create playlist.\")\n",
    "    \n",
    "    return playlist_id"
   ]
  },
  {
   "cell_type": "code",
   "execution_count": 46,
   "id": "6f5cd216",
   "metadata": {},
   "outputs": [],
   "source": [
    "def findNumOfSongs(token, playlist_id):\n",
    "    endpoint_url = f'https://api.spotify.com/v1/playlists/{playlist_id}/tracks?'\n",
    "    query = f'{endpoint_url}'\n",
    "    response = requests.get(query, headers={\"Content-Type\":\"application/json\", \"Authorization\":f'Bearer {token}'})\n",
    "    json_response = response.json()\n",
    "    N = json_response['total']\n",
    "    print(f'Found {N} Songs.')\n",
    "    return N"
   ]
  },
  {
   "cell_type": "code",
   "execution_count": 47,
   "id": "c9b0ee1f",
   "metadata": {},
   "outputs": [],
   "source": [
    "def scrapeNext50(limit, offset, token, playlist_id, all_uris):\n",
    "    market=\"ES\"\n",
    "    uris = []\n",
    "    endpoint_url = f'https://api.spotify.com/v1/playlists/{playlist_id}/tracks?'\n",
    "    query = f'{endpoint_url}limit={limit}&market={market}&offset={offset}'\n",
    "    response = requests.get(query, headers={\"Content-Type\":\"application/json\", \"Authorization\":f'Bearer {token}'})\n",
    "    if(response.status_code != 200):\n",
    "        print(\"Could not scrape songs.\")\n",
    "    json_response = response.json()\n",
    "\n",
    "    for song in json_response['items']:\n",
    "        if(song['track']['uri'] not in all_uris):\n",
    "            uris.append(song['track']['uri'])\n",
    "    \n",
    "    return uris"
   ]
  },
  {
   "cell_type": "code",
   "execution_count": 48,
   "id": "eb79bc0c",
   "metadata": {},
   "outputs": [],
   "source": [
    "def addSongs(uris, my_playlist_id, token):\n",
    "    \n",
    "    endpoint_url = f'https://api.spotify.com/v1/playlists/{my_playlist_id}/tracks?'\n",
    "    \n",
    "    request_body = json.dumps({\n",
    "              \"uris\" : uris\n",
    "            })\n",
    "    response = requests.post(url = endpoint_url, data = request_body, headers={\"Content-Type\":\"application/json\", \"Authorization\":f'Bearer {token}'})\n",
    "    \n",
    "    print(f\"Added {len(uris)} songs.\")"
   ]
  },
  {
   "cell_type": "code",
   "execution_count": 49,
   "id": "ac9e93fa",
   "metadata": {},
   "outputs": [
    {
     "name": "stdout",
     "output_type": "stream",
     "text": [
      "Spotify OAuth Token: BQBgdEfrjepcuIRpf5yCPOf62mrwYPAr4tnDRRL-BOjoIzXKVo32QvnC5sYPfbrZ4jPIhq-4uXxol4uqiLpOmhyWVIgG-MwRTKMUqo_8o7VUxQQSA4tbXhwSLhdovs05zPy4QPjUfuQjbLAygU-13nFvlzqH_mczkUIZCmXP6ABa3CYwnOWqU1mOCz1zk5QtKhyZWhLaOlmvu_36EY5DltD81dHLT53WYCyWCVS01VjGVc1oX9g-mK_IOmjmaYXFY6Fk5vrwO8zCeX9J5Fo3uNQ\n",
      "Playlist name: ***\n",
      "Playlist description: *\n",
      "Should it be public? (1-yes, 0-no) 1\n",
      "Created playlist with id 6DzkZbxnwxAVmfyF1W7GbX.\n",
      "Found 64 Songs.\n",
      "Added 50 songs.\n",
      "Added 14 songs.\n",
      "Songs added to playlist.\n",
      "Found 160 Songs.\n",
      "Added 46 songs.\n",
      "Added 49 songs.\n",
      "Added 50 songs.\n",
      "Added 10 songs.\n",
      "Songs added to playlist.\n",
      "Found 14 Songs.\n",
      "Added 11 songs.\n",
      "Songs added to playlist.\n",
      "Found 25 Songs.\n",
      "Added 4 songs.\n",
      "Songs added to playlist.\n"
     ]
    }
   ],
   "source": [
    "import requests\n",
    "import json\n",
    "\n",
    "token, playlist_name, playlist_description, public = getInfo()\n",
    "my_playlist_id = createPlaylist(token, playlist_name, playlist_description, public)\n",
    "playlist_ids = ['76J13PyJx0Od8QGr5L9iVe', '2fndSJN2BPfOoYiQP8OFUT', '7JH2LcqndIxcJwNGphMiNl', '53lUbUbI4qxfEes4fxkiEo']\n",
    "\n",
    "limit = 50\n",
    "all_uris = []\n",
    "\n",
    "for playlist_id in playlist_ids:\n",
    "    N = findNumOfSongs(token, playlist_id)\n",
    "    rem = N%limit\n",
    "    max_loop = N-rem\n",
    "    for offset in range(0, max_loop, 50):\n",
    "        uris = scrapeNext50(limit, offset, token, playlist_id, all_uris)\n",
    "        addSongs(uris, my_playlist_id, token)\n",
    "    uris = scrapeNext50(rem, max_loop, token, playlist_id, all_uris)\n",
    "    all_uris += uris\n",
    "    addSongs(uris, my_playlist_id, token)\n",
    "    print(\"Songs added to playlist.\")"
   ]
  }
 ],
 "metadata": {
  "kernelspec": {
   "display_name": "Python 3",
   "language": "python",
   "name": "python3"
  },
  "language_info": {
   "codemirror_mode": {
    "name": "ipython",
    "version": 3
   },
   "file_extension": ".py",
   "mimetype": "text/x-python",
   "name": "python",
   "nbconvert_exporter": "python",
   "pygments_lexer": "ipython3",
   "version": "3.8.9"
  }
 },
 "nbformat": 4,
 "nbformat_minor": 5
}
