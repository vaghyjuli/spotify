{
 "cells": [
  {
   "cell_type": "markdown",
   "id": "c4d111a9",
   "metadata": {},
   "source": [
    "# Create a Spotify playlist from all songs of an artist\n",
    "#### Open artist page in Spotify web, and the ID is https://open.spotify.com/artist/[THIS]\n",
    "#### Probably the easiest way to make an OAuth Token is through this link: https://developer.spotify.com/console/post-playlists/"
   ]
  },
  {
   "cell_type": "code",
   "execution_count": 70,
   "id": "d65ab491",
   "metadata": {},
   "outputs": [],
   "source": [
    "import requests\n",
    "import json"
   ]
  },
  {
   "cell_type": "code",
   "execution_count": 71,
   "id": "ce3be0d1",
   "metadata": {},
   "outputs": [],
   "source": [
    "def getInfo():\n",
    "    token = input(\"Spotify OAuth Token: \")\n",
    "    artist_id = input(\"Artist id: \")\n",
    "    playlist_name = input(\"Playlist name: \")\n",
    "    playlist_description = input(\"Playlist description: \")\n",
    "    public = False\n",
    "    if(input(\"Should it be public? (1-yes, 0-no) \") == '1'):\n",
    "        public = True\n",
    "    return token, artist_id, playlist_name, playlist_description, public"
   ]
  },
  {
   "cell_type": "code",
   "execution_count": 72,
   "id": "a7132b73",
   "metadata": {},
   "outputs": [],
   "source": [
    "def createPlaylist(token, playlist_name, playlist_description, public):\n",
    "    endpoint_url = \"https://api.spotify.com/v1/me/playlists?\"\n",
    "    request_body = json.dumps({\n",
    "              \"name\": playlist_name,\n",
    "              \"description\": playlist_description,\n",
    "              \"public\": public\n",
    "            })\n",
    "    response = requests.post(url = endpoint_url, data = request_body, headers={\"Content-Type\":\"application/json\", \"Authorization\":f'Bearer {token}'})\n",
    "    if(response.status_code == 201):\n",
    "        playlist_id = response.json()['id']\n",
    "        print(f'Created playlist with id {playlist_id}.')\n",
    "    else:\n",
    "        print(\"Could not create playlist.\")\n",
    "    \n",
    "    return playlist_id"
   ]
  },
  {
   "cell_type": "code",
   "execution_count": 73,
   "id": "ab88777d",
   "metadata": {},
   "outputs": [],
   "source": [
    "def findAlbumIds(artist_id, token):\n",
    "    album_ids = []\n",
    "    endpoint_url = f'https://api.spotify.com/v1/artists/{artist_id}/albums'\n",
    "    query = f'{endpoint_url}'\n",
    "    response = requests.get(query, headers={\"Content-Type\":\"application/json\", \"Authorization\":f'Bearer {token}'})\n",
    "    json_response = response.json()\n",
    "    for album in json_response['items']:\n",
    "        album_ids.append(album['id'])\n",
    "        \n",
    "    return album_ids"
   ]
  },
  {
   "cell_type": "code",
   "execution_count": 74,
   "id": "44ccc682",
   "metadata": {},
   "outputs": [],
   "source": [
    "def addAlbumSongs(album_id, token):\n",
    "    endpoint_url = f'https://api.spotify.com/v1/albums/{album_id}/tracks'\n",
    "    query = f'{endpoint_url}'\n",
    "    response = requests.get(query, headers={\"Content-Type\":\"application/json\", \"Authorization\":f'Bearer {token}'})\n",
    "    json_response = response.json()\n",
    "\n",
    "    uris = []\n",
    "    for song in json_response['items']:\n",
    "        uris.append(song['uri'])\n",
    "    \n",
    "    endpoint_url = f'https://api.spotify.com/v1/playlists/{playlist_id}/tracks?'\n",
    "    request_body = json.dumps({\n",
    "              \"uris\" : uris\n",
    "            })\n",
    "    \n",
    "    response = requests.post(url = endpoint_url, data = request_body, headers={\"Content-Type\":\"application/json\", \"Authorization\":f'Bearer {token}'})"
   ]
  },
  {
   "cell_type": "code",
   "execution_count": null,
   "id": "3bc4bfcd",
   "metadata": {},
   "outputs": [],
   "source": [
    "token, artist_id, playlist_name, playlist_description, public = getInfo()\n",
    "playlist_id = createPlaylist(token, playlist_name, playlist_description, public)\n",
    "album_ids = findAlbumIds(artist_id, token)\n",
    "for album_id in album_ids:\n",
    "    addAlbumSongs(album_id, token)"
   ]
  }
 ],
 "metadata": {
  "kernelspec": {
   "display_name": "Python 3",
   "language": "python",
   "name": "python3"
  },
  "language_info": {
   "codemirror_mode": {
    "name": "ipython",
    "version": 3
   },
   "file_extension": ".py",
   "mimetype": "text/x-python",
   "name": "python",
   "nbconvert_exporter": "python",
   "pygments_lexer": "ipython3",
   "version": "3.8.9"
  }
 },
 "nbformat": 4,
 "nbformat_minor": 5
}
